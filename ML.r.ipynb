{
 "cells": [
  {
   "cell_type": "code",
   "execution_count": 1,
   "id": "887f127f-35b6-4346-ab7f-884bcbeedcb6",
   "metadata": {},
   "outputs": [],
   "source": [
    "# This assignment is adapted and accomplished with the tutorial \"Your First Machine Learning Project in R Step-By-Step\" by Jason Brownlee.\n",
    "\n",
    "## https://machinelearningmastery.com/machine-learning-in-r-step-by-step/Links to an external site."
   ]
  },
  {
   "cell_type": "code",
   "execution_count": null,
   "id": "01584f1c-5b3a-48d5-aa8c-09e0d931f21a",
   "metadata": {},
   "outputs": [],
   "source": [
    "install.packages(\"caret\")"
   ]
  },
  {
   "cell_type": "code",
   "execution_count": null,
   "id": "1d46ed17-d42c-4bd5-b064-523111e66208",
   "metadata": {},
   "outputs": [],
   "source": [
    "library(caret)"
   ]
  },
  {
   "cell_type": "code",
   "execution_count": null,
   "id": "af100df8-238b-4f83-93d1-a2bee20f4f8b",
   "metadata": {},
   "outputs": [],
   "source": [
    "# attach the iris dataset to the environment\n",
    "data(iris)\n",
    "# rename the dataset\n",
    "dataset <- iris"
   ]
  },
  {
   "cell_type": "code",
   "execution_count": null,
   "id": "5bd9628d-84c4-4d13-8407-428d924c8348",
   "metadata": {},
   "outputs": [],
   "source": [
    "# define the filename\n",
    "filename <- \"iris.csv\"\n",
    "# load the CSV file from the local directory\n",
    "dataset <- read.csv(filename, header=FALSE)\n",
    "# set the column names in the dataset\n",
    "colnames(dataset) <- c(\"Sepal.Length\",\"Sepal.Width\",\"Petal.Length\",\"Petal.Width\",\"Species\")"
   ]
  },
  {
   "cell_type": "code",
   "execution_count": null,
   "id": "b8bf8dc7-968f-4a56-b6d3-95a734debd1f",
   "metadata": {},
   "outputs": [],
   "source": [
    "# create a list of 80% of the rows in the original dataset we can use for training\n",
    "validation_index <- createDataPartition(dataset$Species, p=0.80, list=FALSE)\n",
    "# select 20% of the data for validation\n",
    "validation <- dataset[-validation_index,]\n",
    "# use the remaining 80% of data to training and testing the models\n",
    "dataset <- dataset[validation_index,]"
   ]
  },
  {
   "cell_type": "code",
   "execution_count": null,
   "id": "62923426-e138-4d21-8969-206abe3a9555",
   "metadata": {},
   "outputs": [],
   "source": [
    "# dimensions of dataset\n",
    "dim(dataset)"
   ]
  },
  {
   "cell_type": "code",
   "execution_count": null,
   "id": "25e47a3c-a69f-4ef9-82aa-cdec8eb8603a",
   "metadata": {},
   "outputs": [],
   "source": [
    "# list types for each attribute\n",
    "sapply(dataset, class)"
   ]
  },
  {
   "cell_type": "code",
   "execution_count": null,
   "id": "889338c3-fd72-4b9d-a3f8-479b84805c18",
   "metadata": {},
   "outputs": [],
   "source": [
    "Sepal.Length Sepal.Width Petal.Length Petal.Width Species \n",
    " \"numeric\" \"numeric\" \"numeric\" \"numeric\" \"factor\""
   ]
  },
  {
   "cell_type": "code",
   "execution_count": null,
   "id": "28daedde-31d6-4774-8be2-533220090130",
   "metadata": {},
   "outputs": [],
   "source": [
    "# take a peek at the first 5 rows of the data\n",
    "head(dataset)"
   ]
  },
  {
   "cell_type": "code",
   "execution_count": null,
   "id": "57c2d2bc-0ab9-49d7-a964-4778f8b2b65b",
   "metadata": {},
   "outputs": [],
   "source": [
    "# list the levels for the class\n",
    "levels(dataset$Species)"
   ]
  },
  {
   "cell_type": "code",
   "execution_count": null,
   "id": "d7e3a03b-6d0f-4d54-9207-2daecc4a75c6",
   "metadata": {},
   "outputs": [],
   "source": [
    "# summarize the class distribution\n",
    "percentage <- prop.table(table(dataset$Species)) * 100\n",
    "cbind(freq=table(dataset$Species), percentage=percentage)"
   ]
  },
  {
   "cell_type": "code",
   "execution_count": null,
   "id": "3b4dfd14-fec7-46bc-95d2-2a78a4435f27",
   "metadata": {},
   "outputs": [],
   "source": [
    "# summarize attribute distributions\n",
    "summary(dataset)"
   ]
  },
  {
   "cell_type": "code",
   "execution_count": null,
   "id": "c97830b6-1999-40ad-9010-c3f42768ea8f",
   "metadata": {},
   "outputs": [],
   "source": [
    "# split input and output\n",
    "x <- dataset[,1:4]\n",
    "y <- dataset[,5]"
   ]
  },
  {
   "cell_type": "code",
   "execution_count": null,
   "id": "dfca4729-0c4e-42b4-8ed1-b3032a401f98",
   "metadata": {},
   "outputs": [],
   "source": [
    "# boxplot for each attribute on one image\n",
    "par(mfrow=c(1,4))\n",
    "  for(i in 1:4) {\n",
    "  boxplot(x[,i], main=names(iris)[i])\n",
    "}"
   ]
  },
  {
   "cell_type": "code",
   "execution_count": null,
   "id": "c19cd1ac-b1e8-42c6-af07-c11e18d5dac6",
   "metadata": {},
   "outputs": [],
   "source": [
    "# barplot for class breakdown\n",
    "plot(y)"
   ]
  },
  {
   "cell_type": "code",
   "execution_count": null,
   "id": "e61a4470-48dc-4289-b9ca-3f7f0d07dd89",
   "metadata": {},
   "outputs": [],
   "source": [
    "# scatterplot matrix\n",
    "featurePlot(x=x, y=y, plot=\"ellipse\")"
   ]
  },
  {
   "cell_type": "code",
   "execution_count": null,
   "id": "f2d201bd-945a-4355-a04b-856d71c5a7db",
   "metadata": {},
   "outputs": [],
   "source": [
    "# box and whisker plots for each attribute\n",
    "featurePlot(x=x, y=y, plot=\"box\")"
   ]
  },
  {
   "cell_type": "code",
   "execution_count": null,
   "id": "71041840-c380-4d90-a562-db9f84a7ef3f",
   "metadata": {},
   "outputs": [],
   "source": [
    "# density plots for each attribute by class value\n",
    "scales <- list(x=list(relation=\"free\"), y=list(relation=\"free\"))\n",
    "featurePlot(x=x, y=y, plot=\"density\", scales=scales)"
   ]
  },
  {
   "cell_type": "code",
   "execution_count": null,
   "id": "52ad99f5-2289-47a4-99f7-49013e1d33ca",
   "metadata": {},
   "outputs": [],
   "source": [
    "# Run algorithms using 10-fold cross validation\n",
    "control <- trainControl(method=\"cv\", number=10)\n",
    "metric <- \"Accuracy\""
   ]
  },
  {
   "cell_type": "code",
   "execution_count": null,
   "id": "a30fdbee-8c55-440d-9318-4f55c40886fb",
   "metadata": {},
   "outputs": [],
   "source": [
    "# a) linear algorithms\n",
    "set.seed(7)\n",
    "fit.lda <- train(Species~., data=dataset, method=\"lda\", metric=metric, trControl=control)\n",
    "# b) nonlinear algorithms\n",
    "# CART\n",
    "set.seed(7)\n",
    "fit.cart <- train(Species~., data=dataset, method=\"rpart\", metric=metric, trControl=control)\n",
    "# kNN\n",
    "set.seed(7)\n",
    "fit.knn <- train(Species~., data=dataset, method=\"knn\", metric=metric, trControl=control)\n",
    "# c) advanced algorithms\n",
    "# SVM\n",
    "set.seed(7)\n",
    "fit.svm <- train(Species~., data=dataset, method=\"svmRadial\", metric=metric, trControl=control)\n",
    "# Random Forest\n",
    "set.seed(7)\n",
    "fit.rf <- train(Species~., data=dataset, method=\"rf\", metric=metric, trControl=control)"
   ]
  },
  {
   "cell_type": "code",
   "execution_count": null,
   "id": "7d812b7e-4c85-4d83-aa5c-b2905079ed7c",
   "metadata": {},
   "outputs": [],
   "source": [
    "# summarize accuracy of models\n",
    "results <- resamples(list(lda=fit.lda, cart=fit.cart, knn=fit.knn, svm=fit.svm, rf=fit.rf))\n",
    "summary(results)"
   ]
  },
  {
   "cell_type": "code",
   "execution_count": null,
   "id": "318a9b2d-b4a7-49ca-a867-b9a9a0030b4f",
   "metadata": {},
   "outputs": [],
   "source": [
    "# compare accuracy of models\n",
    "dotplot(results)"
   ]
  },
  {
   "cell_type": "code",
   "execution_count": null,
   "id": "3035299b-9d11-48c1-996e-e854cf3aee2c",
   "metadata": {},
   "outputs": [],
   "source": []
  }
 ],
 "metadata": {
  "kernelspec": {
   "display_name": "R",
   "language": "R",
   "name": "ir"
  },
  "language_info": {
   "codemirror_mode": "r",
   "file_extension": ".r",
   "mimetype": "text/x-r-source",
   "name": "R",
   "pygments_lexer": "r",
   "version": "4.0.5"
  }
 },
 "nbformat": 4,
 "nbformat_minor": 5
}
